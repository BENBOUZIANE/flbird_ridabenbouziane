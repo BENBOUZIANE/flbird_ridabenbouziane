{
 "cells": [
  {
   "cell_type": "code",
   "execution_count": 3,
   "metadata": {},
   "outputs": [
    {
     "name": "stdout",
     "output_type": "stream",
     "text": [
      "1\n",
      "2\n",
      "3\n",
      "4\n",
      "5\n",
      "6\n",
      "execution conplet !!\n"
     ]
    }
   ],
   "source": [
    "i = 1 \n",
    "while i <= 6 : \n",
    "    print(i)\n",
    "    i+=1\n",
    "else:\n",
    "    print(\"execution conplet !!\")"
   ]
  },
  {
   "cell_type": "code",
   "execution_count": 6,
   "metadata": {},
   "outputs": [
    {
     "name": "stdout",
     "output_type": "stream",
     "text": [
      "r\n",
      "i\n",
      "d\n",
      "a\n",
      " \n"
     ]
    }
   ],
   "source": [
    "for x in \"rida \":\n",
    "    print(x)"
   ]
  },
  {
   "cell_type": "code",
   "execution_count": 12,
   "metadata": {},
   "outputs": [
    {
     "name": "stdout",
     "output_type": "stream",
     "text": [
      "index : 0 | value : rida\n",
      "index : 1 | value : sami\n",
      "index : 2 | value : khalil\n",
      "0\n",
      "1\n",
      "2\n",
      "3\n",
      "4\n"
     ]
    }
   ],
   "source": [
    "lis =[\"rida\",\"sami\",\"khalil\"]\n",
    "for index,value in enumerate(lis):\n",
    "    print('index : {} | value : {}'.format(index,value))\n",
    "for i in range(0,5):\n",
    "    print(i)"
   ]
  },
  {
   "cell_type": "code",
   "execution_count": 14,
   "metadata": {},
   "outputs": [
    {
     "name": "stdout",
     "output_type": "stream",
     "text": [
      "0\n",
      "1\n",
      "2\n",
      "3\n",
      "4\n",
      "The loop has completed execution\n"
     ]
    }
   ],
   "source": [
    "for val in range(5):\n",
    "\n",
    "    print(val)\n",
    "\n",
    "else:\n",
    "\n",
    "    print(\"The loop has completed execution\")"
   ]
  },
  {
   "cell_type": "code",
   "execution_count": 61,
   "metadata": {},
   "outputs": [
    {
     "name": "stdout",
     "output_type": "stream",
     "text": [
      "2\n",
      "4\n",
      "6\n",
      "20\n",
      "36\n"
     ]
    }
   ],
   "source": [
    "numbers = [1,2,3,4,5,6,20,23,36]\n",
    "for num in numbers : \n",
    "    if num % 2 != 0:\n",
    "        continue\n",
    "    print(num)"
   ]
  },
  {
   "cell_type": "code",
   "execution_count": 70,
   "metadata": {},
   "outputs": [
    {
     "name": "stdout",
     "output_type": "stream",
     "text": [
      "1 , 4\n",
      "2 , 5\n",
      "3 , 6\n",
      "4 , 7\n"
     ]
    }
   ],
   "source": [
    "i = 1\n",
    "\n",
    "j = 4\n",
    "\n",
    "while i < 3:\n",
    "\n",
    "    while j < 8:\n",
    "\n",
    "        print(i, \",\", j)\n",
    "\n",
    "        j = j + 1\n",
    "\n",
    "        i = i + 1"
   ]
  },
  {
   "cell_type": "code",
   "execution_count": 71,
   "metadata": {},
   "outputs": [
    {
     "name": "stdout",
     "output_type": "stream",
     "text": [
      "0\n",
      "azar\n",
      "1\n",
      "azar\n",
      "2\n",
      "azar\n",
      "3\n",
      "azar\n",
      "4\n",
      "5\n",
      "azar\n",
      "6\n",
      "azar\n",
      "7\n",
      "azar\n",
      "8\n",
      "azar\n",
      "9\n",
      "azar\n"
     ]
    }
   ],
   "source": [
    "for i in range(0,10):\n",
    "    print(i)\n",
    "    if i == 4 : \n",
    "        continue\n",
    "    print(\"azar\")"
   ]
  },
  {
   "cell_type": "code",
   "execution_count": 72,
   "metadata": {},
   "outputs": [
    {
     "name": "stdout",
     "output_type": "stream",
     "text": [
      "25\n",
      "13\n",
      "19\n",
      "66\n",
      "88\n",
      "The number 88 is found\n"
     ]
    }
   ],
   "source": [
    "for num in [25, 13, 19, 66, 88, 50]:\n",
    "\n",
    "    print(num)\n",
    "\n",
    "    if(num==88):\n",
    "\n",
    "        print(\"The number 88 is found\")\n",
    "\n",
    "        break"
   ]
  },
  {
   "cell_type": "code",
   "execution_count": 74,
   "metadata": {},
   "outputs": [
    {
     "name": "stdout",
     "output_type": "stream",
     "text": [
      "25\n",
      "13\n",
      "19\n"
     ]
    }
   ],
   "source": [
    "for num in [25, 13, 19, 66, 50]:\n",
    "\n",
    "    if num%2 == 0:\n",
    "\n",
    "        continue\n",
    "\n",
    "    print(num)"
   ]
  },
  {
   "cell_type": "code",
   "execution_count": 90,
   "metadata": {},
   "outputs": [
    {
     "name": "stdout",
     "output_type": "stream",
     "text": [
      "\n",
      "ezalmkemalkelakemlakemlaelamzkea\n",
      "malzkemlakmelkazme\n",
      "zaemamlekamlzkeaz\n",
      "mlkazemkamlkaea\n",
      "mazkelkazmkmalze\n",
      " --- 104\n",
      "\n",
      "\n",
      "zakepao\n",
      "fazae\n",
      "\n",
      "ezalmkemalkelakemlakemlaelamzkea\n",
      "malzkemlakmelkazme\n",
      "zaemamlekamlzkeaz\n",
      "mlkazemkamlkaea\n",
      "mazkelkazmkmalze\n",
      "\n",
      "index : 0 -- value : r\n",
      "index : 1 -- value : i\n",
      "index : 2 -- value : d\n",
      "index : 3 -- value : a\n",
      "index : 4 -- value :  \n",
      "index : 5 -- value : b\n",
      "index : 6 -- value : e\n",
      "index : 7 -- value : n\n",
      "index : 8 -- value : b\n",
      "index : 9 -- value : o\n",
      "index : 10 -- value : u\n",
      "index : 11 -- value : z\n",
      "index : 12 -- value : i\n",
      "index : 13 -- value : a\n",
      "index : 14 -- value : n\n",
      "index : 15 -- value : e\n"
     ]
    }
   ],
   "source": [
    "var = 'zakepao'\n",
    "var2 = \"fazae\"\n",
    "var3 = \"\"\"\n",
    "ezalmkemalkelakemlakemlaelamzkea\n",
    "malzkemlakmelkazme\n",
    "zaemamlekamlzkeaz\n",
    "mlkazemkamlkaea\n",
    "mazkelkazmkmalze\n",
    "\"\"\"\n",
    "vartab =var3.split('/n') \n",
    "for i in vartab: \n",
    "    print('{} --- {}'.format(i,len(i)))\n",
    "    print()\n",
    "print()\n",
    "print( var)\n",
    "print(var2)\n",
    "print (var3)\n",
    "var = \"rida benbouziane\"\n",
    "for index,value in enumerate(var):\n",
    "    print('index : {} -- value : {}'.format(index,value))"
   ]
  },
  {
   "cell_type": "code",
   "execution_count": 108,
   "metadata": {},
   "outputs": [
    {
     "name": "stdout",
     "output_type": "stream",
     "text": [
      "rida benbouziane\n",
      "rid\n",
      "rida benb\n"
     ]
    }
   ],
   "source": [
    "\n",
    "print(var)\n",
    "print(var[0:3])\n",
    "print(var["
   ]
  },
  {
   "cell_type": "code",
   "execution_count": 129,
   "metadata": {},
   "outputs": [
    {
     "name": "stdout",
     "output_type": "stream",
     "text": [
      "rida benbouziane\n",
      "r\n",
      "ouzia\n",
      "a benb\n"
     ]
    }
   ],
   "source": [
    "\n",
    "print(var)\n",
    "print(var[0])\n",
    "print(var[9:-2])\n",
    "print(var[3:9])"
   ]
  },
  {
   "cell_type": "code",
   "execution_count": 131,
   "metadata": {},
   "outputs": [
    {
     "ename": "NameError",
     "evalue": "name 'var' is not defined",
     "output_type": "error",
     "traceback": [
      "\u001b[1;31m---------------------------------------------------------------------------\u001b[0m",
      "\u001b[1;31mNameError\u001b[0m                                 Traceback (most recent call last)",
      "\u001b[1;32m<ipython-input-131-2d7675875a35>\u001b[0m in \u001b[0;36m<module>\u001b[1;34m\u001b[0m\n\u001b[1;32m----> 1\u001b[1;33m \u001b[1;32mdel\u001b[0m \u001b[0mvar\u001b[0m\u001b[1;33m\u001b[0m\u001b[1;33m\u001b[0m\u001b[0m\n\u001b[0m\u001b[0;32m      2\u001b[0m \u001b[0mprint\u001b[0m\u001b[1;33m(\u001b[0m\u001b[0mvar\u001b[0m \u001b[1;33m)\u001b[0m\u001b[1;33m\u001b[0m\u001b[1;33m\u001b[0m\u001b[0m\n",
      "\u001b[1;31mNameError\u001b[0m: name 'var' is not defined"
     ]
    }
   ],
   "source": [
    "del var\n",
    "print(var )"
   ]
  },
  {
   "cell_type": "code",
   "execution_count": 135,
   "metadata": {},
   "outputs": [
    {
     "name": "stdout",
     "output_type": "stream",
     "text": [
      "rida rida rida benbouziane\n"
     ]
    }
   ],
   "source": [
    "var1 = \"rida \"\n",
    "var2 = \"benbouziane\"\n",
    "varrrs = var1*3 + var2\n",
    "print(varrrs)"
   ]
  },
  {
   "cell_type": "code",
   "execution_count": 138,
   "metadata": {},
   "outputs": [
    {
     "name": "stdout",
     "output_type": "stream",
     "text": [
      "['False', 'None', 'True', 'and', 'as', 'assert', 'async', 'await', 'break', 'class', 'continue', 'def', 'del', 'elif', 'else', 'except', 'finally', 'for', 'from', 'global', 'if', 'import', 'in', 'is', 'lambda', 'nonlocal', 'not', 'or', 'pass', 'raise', 'return', 'try', 'while', 'with', 'yield']\n"
     ]
    }
   ],
   "source": [
    "import keyword\n",
    "print(keyword.kwlist)"
   ]
  },
  {
   "cell_type": "code",
   "execution_count": 141,
   "metadata": {},
   "outputs": [
    {
     "name": "stdout",
     "output_type": "stream",
     "text": [
      "r\n",
      "114\n",
      "r\n",
      "i\n",
      "105\n",
      "i\n",
      "d\n",
      "100\n",
      "d\n",
      "a\n",
      "97\n",
      "a\n"
     ]
    }
   ],
   "source": [
    "var1 = \"rida\"\n",
    "for v in var1 :\n",
    "    print(v)\n",
    "    print(ord(v))\n",
    "    print(chr(ord(v)))"
   ]
  },
  {
   "cell_type": "code",
   "execution_count": 142,
   "metadata": {},
   "outputs": [
    {
     "name": "stdout",
     "output_type": "stream",
     "text": [
      "True\n"
     ]
    }
   ],
   "source": [
    "print(\"rida\" == \"rida\")"
   ]
  },
  {
   "cell_type": "code",
   "execution_count": 143,
   "metadata": {},
   "outputs": [
    {
     "name": "stdout",
     "output_type": "stream",
     "text": [
      "True\n"
     ]
    }
   ],
   "source": [
    "print(\"rida\" >= \"Rida\")"
   ]
  },
  {
   "cell_type": "code",
   "execution_count": 144,
   "metadata": {},
   "outputs": [
    {
     "name": "stdout",
     "output_type": "stream",
     "text": [
      "True\n"
     ]
    }
   ],
   "source": [
    "print(\"PYTHON\" != \"Java\")"
   ]
  },
  {
   "cell_type": "code",
   "execution_count": 148,
   "metadata": {},
   "outputs": [
    {
     "name": "stdout",
     "output_type": "stream",
     "text": [
      "True\n",
      "False\n"
     ]
    }
   ],
   "source": [
    "print(\"rida\" > \"Rida\")\n",
    "print(\"rida\" < \"Rida\")"
   ]
  },
  {
   "cell_type": "code",
   "execution_count": null,
   "metadata": {},
   "outputs": [],
   "source": []
  }
 ],
 "metadata": {
  "kernelspec": {
   "display_name": "Python 3",
   "language": "python",
   "name": "python3"
  },
  "language_info": {
   "codemirror_mode": {
    "name": "ipython",
    "version": 3
   },
   "file_extension": ".py",
   "mimetype": "text/x-python",
   "name": "python",
   "nbconvert_exporter": "python",
   "pygments_lexer": "ipython3",
   "version": "3.7.3"
  }
 },
 "nbformat": 4,
 "nbformat_minor": 2
}
